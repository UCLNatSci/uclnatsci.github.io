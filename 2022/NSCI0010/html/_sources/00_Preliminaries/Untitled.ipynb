{
 "cells": [
  {
   "cell_type": "markdown",
   "id": "23abee3c",
   "metadata": {},
   "source": [
    "# Getting Started with Cocalc, Jupyter Notebooks and Python\n",
    "\n",
    "Before you start, you need to create a Cocalc account and add your partner as a collaborator [TODO: Link to instructions]\n",
    "\n",
    "## Part 1: Editing and Running Notebooks\n",
    "\n",
    "### Step 1: Log in to Cocalc\n",
    "\n",
    "> Navigate to www.cocalc.com and sign in using your university email address. Click on project **NSCI0007_20_21** in the project list to load your project.\n",
    "\n",
    "Your project is essentially a virtual computer hosted in the cloud, and it comes preinstalled with all the software and tools you need to get Python programming straight away!\n",
    "\n",
    "### Step 2: Open the Week 1 Folder\n",
    "\n",
    ">Click on the `Handouts` folder then the `01_Introduction` folder."
   ]
  },
  {
   "cell_type": "code",
   "execution_count": 1,
   "id": "195a58f6",
   "metadata": {},
   "outputs": [
    {
     "name": "stdout",
     "output_type": "stream",
     "text": [
      "hello\n"
     ]
    }
   ],
   "source": [
    "print(\"hello\")"
   ]
  },
  {
   "cell_type": "code",
   "execution_count": null,
   "id": "69f41677",
   "metadata": {},
   "outputs": [],
   "source": []
  }
 ],
 "metadata": {
  "jupytext": {
   "formats": "md:myst",
   "text_representation": {
    "extension": ".md",
    "format_name": "myst",
    "format_version": 0.13,
    "jupytext_version": "1.10.3"
   }
  },
  "kernelspec": {
   "display_name": "Python 3",
   "language": "python",
   "name": "python3"
  },
  "language_info": {
   "codemirror_mode": {
    "name": "ipython",
    "version": 3
   },
   "file_extension": ".py",
   "mimetype": "text/x-python",
   "name": "python",
   "nbconvert_exporter": "python",
   "pygments_lexer": "ipython3",
   "version": "3.7.10"
  },
  "source_map": [
   13,
   31,
   35
  ]
 },
 "nbformat": 4,
 "nbformat_minor": 5
}